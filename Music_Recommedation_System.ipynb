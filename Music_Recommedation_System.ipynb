{
  "nbformat": 4,
  "nbformat_minor": 0,
  "metadata": {
    "colab": {
      "provenance": []
    },
    "kernelspec": {
      "name": "python3",
      "display_name": "Python 3"
    },
    "language_info": {
      "name": "python"
    }
  },
  "cells": [
    {
      "cell_type": "code",
      "source": [
        "import pandas as pd\n",
        "from sklearn.feature_extraction.text import TfidfVectorizer\n",
        "from sklearn.metrics.pairwise import cosine_similarity\n",
        "import warnings\n",
        "warnings.filterwarnings(\"ignore\")\n",
        "\n",
        "# Load the dataset\n",
        "file_path = '/content/ex.csv'\n",
        "data = pd.read_csv(file_path)\n",
        "\n",
        "\n",
        "# Step 1: Data Cleaning\n",
        "data['Singer/Artists'].fillna('Unknown', inplace=True)\n",
        "data['Album/Movie'].fillna('Unknown', inplace=True)\n",
        "data['User-Rating'] = data['User-Rating'].str.split('/').str[0].astype(float)\n",
        "\n",
        "# Combine relevant text features into a single column\n",
        "data['combined_features'] = (\n",
        "    data['Singer/Artists'] + ' ' + data['Genre'] + ' ' + data['Album/Movie']\n",
        ")\n",
        "\n",
        "# Vectorize the combined features\n",
        "vectorizer = TfidfVectorizer(stop_words='english')\n",
        "feature_matrix = vectorizer.fit_transform(data['combined_features'])\n",
        "\n",
        "# Compute the similarity matrix\n",
        "similarity_matrix = cosine_similarity(feature_matrix)\n",
        "\n",
        "# Step 2: Function to Recommend Songs Based on Input Details\n",
        "def recommend_songs_from_input(song_details, num_recommendations=5):\n",
        "    \"\"\"\n",
        "    Recommend songs based on user-inputted details.\n",
        "\n",
        "    :param song_details: Dictionary containing song details (attributes)\n",
        "    :param num_recommendations: Number of recommendations to return\n",
        "    :return: List of recommended songs\n",
        "    \"\"\"\n",
        "    # Create a feature string based on the input details\n",
        "    input_features = (\n",
        "        song_details['Singer/Artists'] + ' ' +\n",
        "        song_details['Genre'] + ' ' +\n",
        "        song_details['Album/Movie']\n",
        "    )\n",
        "\n",
        "    # Vectorize the input features\n",
        "    input_vector = vectorizer.transform([input_features])\n",
        "\n",
        "    # Compute similarity scores with all songs in the dataset\n",
        "    similarity_scores = cosine_similarity(input_vector, feature_matrix).flatten()\n",
        "\n",
        "    # Get the indices of the most similar songs\n",
        "    similar_indices = similarity_scores.argsort()[-num_recommendations - 1 :][::-1]\n",
        "\n",
        "    # Exclude the input song itself if it exists in the dataset\n",
        "    recommended_songs = [\n",
        "        data.iloc[i]['Song-Name']\n",
        "        for i in similar_indices\n",
        "        if similarity_scores[i] > 0\n",
        "    ]\n",
        "\n",
        "    return recommended_songs[:num_recommendations]\n",
        "\n",
        "# Step 3: Get Custom User Input\n",
        "print(\"Enter details of a song:\")\n",
        "singer_artists = input(\"Singer/Artists: \")\n",
        "genre = input(\"Genre: \")\n",
        "album_movie = input(\"Album/Movie: \")\n",
        "\n",
        "user_input = {\n",
        "    \"Singer/Artists\": singer_artists,\n",
        "    \"Genre\": genre,\n",
        "    \"Album/Movie\": album_movie\n",
        "}\n",
        "\n",
        "# Get recommendations\n",
        "recommendations = recommend_songs_from_input(user_input, num_recommendations=5)\n",
        "\n",
        "# Display recommendations\n",
        "print(\"\\nRecommended Songs:\")\n",
        "for i, song in enumerate(recommendations, 1):\n",
        "    print(f\"{i}. {song}\")\n"
      ],
      "metadata": {
        "colab": {
          "base_uri": "https://localhost:8080/"
        },
        "id": "1v61sR6YLzYX",
        "outputId": "44732fb0-0bea-4a84-e84a-3302a3d8d6f0"
      },
      "execution_count": null,
      "outputs": [
        {
          "output_type": "stream",
          "name": "stdout",
          "text": [
            "Enter details of a song:\n",
            "Singer/Artists: neha kakkar\n",
            "Genre: romantic\n",
            "Album/Movie: luka chupi\n",
            "\n",
            "Recommended Songs:\n",
            "1. Coca Cola\n",
            "2. O Janiya\n",
            "3. Mile Ho Tum (Reprise)\n",
            "4. Akkad Bakkad\n",
            "5. Mohabbat Nasha Hai\n"
          ]
        }
      ]
    },
    {
      "cell_type": "code",
      "source": [],
      "metadata": {
        "id": "7iQ8i3z4MRuP"
      },
      "execution_count": null,
      "outputs": []
    }
  ]
}